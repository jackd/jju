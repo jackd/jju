{
 "cells": [
  {
   "cell_type": "markdown",
   "id": "11c8bf7f",
   "metadata": {
    "lines_to_next_cell": 2
   },
   "source": [
    "# Locally Optimal Block Preconditioned Conjugate Gradient (LOBPCG) method\n",
    "\n",
    "From [wikipedia page](https://en.wikipedia.org/wiki/LOBPCG):\n",
    "> LOBPCG is a matrix-free method for finding the largest (or smallest) eigenvalues and the corresponding eigenvectors of a symmetric generalized eigenvalue problem.\n",
    "\n",
    "    A x = λ B x\n",
    "\n",
    "\n",
    "I found the method following this recent discussion:\n",
    "[What is the most efficient method for calculating eigenvalues and eigenvectors of large matrices?](https://www.researchgate.net/post/What-is-the-most-efficient-method-for-calculating-eigenvalues-and-eigenvectors-of-large-matrices)\n",
    "\n",
    "In particular, Andrew Knyazev, the author of the LOBPCG, makes multiple interesting remarks.\n",
    "\n",
    "\n",
    "He talks about the  LOBPCG  method:\n",
    "> For example, LOBPCG works only for symmetric problems, including\n",
    "> generalized, to find <5-10% of extreme eigenpairs, but whether \n",
    "> the matrix is sparse or dense is not so important.\n",
    "> For a full review of options, please read this [paper from 1997](https://www.researchgate.net/publication/46619332_Templates_for_the_Solution_of_Algebraic_Eigenvalue_Problems_A_Practical_Guide).\n",
    "\n",
    "\n",
    ">The already mentioned LOBPCG has many implementations. In MATLAB, including support for single precision, distributed or codistributed arrays, and tiling arrays, please see\n",
    "https://www.mathworks.com/matlabcentral/fileexchange/48-locally-optimal-block-preconditioned-conjugate-gradient .\n",
    "A plain C version is in https://github.com/lobpcg/blopex .\n",
    "In other cases, LOBPCG is already included in the hosting package, e.g., Anasazi (Trilinos), SLEPc, hypre, SciPy, Octave, Julia, MAGMA, Pytorch, Rust, RAPIDS cuGraph, and NVIDIA AMGX. For a comprehensive review, see https://en.wikipedia.org/wiki/LOBPCG\n",
    "\n",
    "\n",
    "We can find an implementation in scipy:\n",
    "- https://docs.scipy.org/doc/scipy/reference/generated/scipy.sparse.linalg.lobpcg.html\n",
    "\n",
    "And in pytorch:\n",
    "- https://pytorch.org/docs/stable/generated/torch.lobpcg.html"
   ]
  },
  {
   "cell_type": "markdown",
   "id": "0f94edf1",
   "metadata": {},
   "source": [
    "Let's work with some examples."
   ]
  },
  {
   "cell_type": "code",
   "execution_count": 1,
   "id": "6122499b",
   "metadata": {},
   "outputs": [],
   "source": [
    "%load_ext autoreload\n",
    "%autoreload 2"
   ]
  },
  {
   "cell_type": "code",
   "execution_count": 2,
   "id": "0069f919",
   "metadata": {},
   "outputs": [],
   "source": [
    "import numpy as np\n",
    "import scipy.linalg\n",
    "from scipy.sparse import issparse, spdiags\n",
    "from scipy.sparse.linalg import LinearOperator\n",
    "from scipy.sparse.linalg import lobpcg"
   ]
  },
  {
   "cell_type": "code",
   "execution_count": 3,
   "id": "f00fb16a",
   "metadata": {},
   "outputs": [],
   "source": [
    "def generate_wishart(N=1000, T=1100):\n",
    "    X = np.random.randn(T, N)\n",
    "    W = X.T @ X / T\n",
    "    return W, X"
   ]
  },
  {
   "cell_type": "code",
   "execution_count": 4,
   "id": "1afab4cc",
   "metadata": {},
   "outputs": [],
   "source": [
    "rng = np.random.default_rng()"
   ]
  },
  {
   "cell_type": "code",
   "execution_count": 5,
   "id": "1918016a",
   "metadata": {},
   "outputs": [],
   "source": [
    "N = 5000\n",
    "T = 100"
   ]
  },
  {
   "cell_type": "code",
   "execution_count": 6,
   "id": "cc38d660",
   "metadata": {},
   "outputs": [
    {
     "data": {
      "text/plain": [
       "(100, 5000)"
      ]
     },
     "execution_count": 6,
     "metadata": {},
     "output_type": "execute_result"
    }
   ],
   "source": [
    "W, X = generate_wishart(N, T)\n",
    "X.shape"
   ]
  },
  {
   "cell_type": "code",
   "execution_count": 7,
   "id": "6d924beb",
   "metadata": {},
   "outputs": [],
   "source": [
    "X0 = rng.random((N, 3))"
   ]
  },
  {
   "cell_type": "code",
   "execution_count": 32,
   "id": "fa2d3c57",
   "metadata": {},
   "outputs": [
    {
     "name": "stdout",
     "output_type": "stream",
     "text": [
      "CPU times: user 1.58 s, sys: 173 ms, total: 1.76 s\n",
      "Wall time: 272 ms\n"
     ]
    },
    {
     "name": "stderr",
     "output_type": "stream",
     "text": [
      "<timed exec>:1: UserWarning: Exited at iteration 20 with accuracies \n",
      "[0.00316472 0.00520395 0.11514184]\n",
      "not reaching the requested tolerance 0.00015811388300841897.\n"
     ]
    },
    {
     "data": {
      "text/plain": [
       "array([64.51746134, 64.33158269, 63.08495533])"
      ]
     },
     "execution_count": 32,
     "metadata": {},
     "output_type": "execute_result"
    }
   ],
   "source": [
    "%time ev, X1 = lobpcg(W, X0)\n",
    "ev"
   ]
  },
  {
   "cell_type": "markdown",
   "id": "05d77920",
   "metadata": {},
   "source": [
    "Let's look if we gain in speed if we use the warm start mechanism of LOBPCG:"
   ]
  },
  {
   "cell_type": "code",
   "execution_count": 33,
   "id": "99403b46",
   "metadata": {},
   "outputs": [
    {
     "name": "stderr",
     "output_type": "stream",
     "text": [
      "<timed exec>:1: UserWarning: Exited at iteration 20 with accuracies \n",
      "[0.00316472 0.00520395 0.11514184]\n",
      "not reaching the requested tolerance 0.00015811388300841897.\n",
      "<timed exec>:1: UserWarning: Exited at iteration 20 with accuracies \n",
      "[8.77867972e-05 3.65462872e-05 8.29404581e-04]\n",
      "not reaching the requested tolerance 0.00015811388300841897.\n"
     ]
    },
    {
     "name": "stdout",
     "output_type": "stream",
     "text": [
      "CPU times: user 1.53 s, sys: 186 ms, total: 1.72 s\n",
      "Wall time: 284 ms\n",
      "CPU times: user 964 ms, sys: 132 ms, total: 1.1 s\n",
      "Wall time: 186 ms\n",
      "CPU times: user 230 ms, sys: 38.3 ms, total: 268 ms\n",
      "Wall time: 56.6 ms\n",
      "CPU times: user 59.6 ms, sys: 5.76 ms, total: 65.4 ms\n",
      "Wall time: 11.8 ms\n",
      "CPU times: user 58.2 ms, sys: 9.75 ms, total: 67.9 ms\n",
      "Wall time: 14.7 ms\n"
     ]
    },
    {
     "data": {
      "text/plain": [
       "array([64.51746262, 64.33158568, 63.08765921])"
      ]
     },
     "execution_count": 33,
     "metadata": {},
     "output_type": "execute_result"
    }
   ],
   "source": [
    "for i in range(5):\n",
    "    %time ev, X0 = lobpcg(W, X0)\n",
    "ev"
   ]
  },
  {
   "cell_type": "markdown",
   "id": "73f2176f",
   "metadata": {},
   "source": [
    "Now Let's try to exploit the structure of the matrix and the fact that in our current example the data matrix $X$ is very thin."
   ]
  },
  {
   "cell_type": "code",
   "execution_count": 34,
   "id": "54e443ae",
   "metadata": {},
   "outputs": [],
   "source": [
    "A = LinearOperator(matvec=lambda v: W @ v, shape=(N, N), dtype=float)"
   ]
  },
  {
   "cell_type": "code",
   "execution_count": 35,
   "id": "0392799a",
   "metadata": {},
   "outputs": [
    {
     "name": "stdout",
     "output_type": "stream",
     "text": [
      "CPU times: user 3.06 s, sys: 376 ms, total: 3.44 s\n",
      "Wall time: 504 ms\n"
     ]
    },
    {
     "name": "stderr",
     "output_type": "stream",
     "text": [
      "<timed exec>:1: UserWarning: Exited at iteration 20 with accuracies \n",
      "[0.00361279 0.00648843 0.08669973]\n",
      "not reaching the requested tolerance 0.00015811388300841897.\n"
     ]
    },
    {
     "data": {
      "text/plain": [
       "array([64.51746138, 64.33158166, 63.08625721])"
      ]
     },
     "execution_count": 35,
     "metadata": {},
     "output_type": "execute_result"
    }
   ],
   "source": [
    "X0 = rng.random((N, 3))\n",
    "%time ev, X1 = lobpcg(A, X0)\n",
    "ev"
   ]
  },
  {
   "cell_type": "code",
   "execution_count": 36,
   "id": "a1e97349",
   "metadata": {},
   "outputs": [],
   "source": [
    "A = LinearOperator(\n",
    "    matvec=lambda v: (X.T @ (X @ v)) / T,\n",
    "    # rmatvec=lambda v: (X.T @ (X @ v))/T,\n",
    "    # matmat=lambda v: (X.T @ (X @ v))/T,\n",
    "    shape=(N, N),\n",
    "    dtype=float,\n",
    ")"
   ]
  },
  {
   "cell_type": "code",
   "execution_count": 37,
   "id": "e6bcef47",
   "metadata": {},
   "outputs": [
    {
     "name": "stdout",
     "output_type": "stream",
     "text": [
      "CPU times: user 201 ms, sys: 84 ms, total: 285 ms\n",
      "Wall time: 73.5 ms\n"
     ]
    },
    {
     "name": "stderr",
     "output_type": "stream",
     "text": [
      "<timed exec>:1: UserWarning: Exited at iteration 20 with accuracies \n",
      "[0.00604918 0.01301494 0.1429378 ]\n",
      "not reaching the requested tolerance 0.00015811388300841897.\n"
     ]
    },
    {
     "data": {
      "text/plain": [
       "array([64.51745771, 64.33156625, 63.08381867])"
      ]
     },
     "execution_count": 37,
     "metadata": {},
     "output_type": "execute_result"
    }
   ],
   "source": [
    "X0 = rng.random((N, 3))\n",
    "%time ev, X1 = lobpcg(A, X0)\n",
    "ev"
   ]
  },
  {
   "cell_type": "code",
   "execution_count": 38,
   "id": "9b1060ce",
   "metadata": {},
   "outputs": [
    {
     "name": "stdout",
     "output_type": "stream",
     "text": [
      "CPU times: user 217 ms, sys: 106 ms, total: 323 ms\n",
      "Wall time: 54.2 ms\n",
      "CPU times: user 138 ms, sys: 69.5 ms, total: 208 ms\n",
      "Wall time: 37.9 ms\n",
      "CPU times: user 27.2 ms, sys: 14.1 ms, total: 41.3 ms\n",
      "Wall time: 8.7 ms\n",
      "CPU times: user 7.04 ms, sys: 3.39 ms, total: 10.4 ms\n",
      "Wall time: 1.66 ms\n",
      "CPU times: user 8.06 ms, sys: 4.06 ms, total: 12.1 ms\n",
      "Wall time: 2.15 ms\n",
      "CPU times: user 7.56 ms, sys: 4.04 ms, total: 11.6 ms\n",
      "Wall time: 1.78 ms\n"
     ]
    },
    {
     "name": "stderr",
     "output_type": "stream",
     "text": [
      "<timed exec>:1: UserWarning: Exited at iteration 20 with accuracies \n",
      "[0.00604918 0.01301494 0.1429378 ]\n",
      "not reaching the requested tolerance 0.00015811388300841897.\n",
      "<timed exec>:1: UserWarning: Exited at iteration 20 with accuracies \n",
      "[3.54576991e-05 7.61459513e-05 6.76479286e-04]\n",
      "not reaching the requested tolerance 0.00015811388300841897.\n"
     ]
    },
    {
     "data": {
      "text/plain": [
       "array([64.51746262, 64.33158568, 63.08765921])"
      ]
     },
     "execution_count": 38,
     "metadata": {},
     "output_type": "execute_result"
    }
   ],
   "source": [
    "for i in range(6):\n",
    "    %time ev, X0 = lobpcg(A, X0)\n",
    "ev"
   ]
  },
  {
   "cell_type": "markdown",
   "id": "44c219a0",
   "metadata": {},
   "source": [
    "We end with a very small execution time!"
   ]
  },
  {
   "cell_type": "markdown",
   "id": "9539b84d",
   "metadata": {},
   "source": [
    "Can we use preconditionner to speedup again things"
   ]
  },
  {
   "cell_type": "markdown",
   "id": "054a1eae",
   "metadata": {},
   "source": [
    "Initial guess for eigenvectors, should have linearly independent\n",
    "columns. Column dimension = number of requested eigenvalues.\n"
   ]
  },
  {
   "cell_type": "markdown",
   "id": "3a8ef080",
   "metadata": {},
   "source": [
    "Preconditioner in the inverse of A in this example:\n"
   ]
  },
  {
   "cell_type": "code",
   "execution_count": 22,
   "id": "788c69c6",
   "metadata": {},
   "outputs": [],
   "source": [
    "invA = spdiags([1.0 / (X**2).mean(0)], 0, N, N)"
   ]
  },
  {
   "cell_type": "markdown",
   "id": "3f870ae5",
   "metadata": {},
   "source": [
    "The preconditiner must be defined by a function."
   ]
  },
  {
   "cell_type": "markdown",
   "id": "9679ce54",
   "metadata": {},
   "source": [
    "The argument x of the preconditioner function is a matrix inside `lobpcg`, thus the use of matrix-matrix product ``@``.\n",
    "\n",
    "The preconditioner function is passed to lobpcg as a `LinearOperator`:\n"
   ]
  },
  {
   "cell_type": "code",
   "execution_count": 23,
   "id": "90869384",
   "metadata": {},
   "outputs": [],
   "source": [
    "M = LinearOperator(matvec=lambda v: invA @ v, shape=(N, N), dtype=float)"
   ]
  },
  {
   "cell_type": "markdown",
   "id": "1c13f30a",
   "metadata": {},
   "source": [
    "Let us now solve the eigenvalue problem for the matrix A:\n"
   ]
  },
  {
   "cell_type": "code",
   "execution_count": 24,
   "id": "a975a6e2",
   "metadata": {},
   "outputs": [],
   "source": [
    "rng = np.random.default_rng()\n",
    "X0 = rng.random((N, 3))"
   ]
  },
  {
   "cell_type": "code",
   "execution_count": 25,
   "id": "8e724a14",
   "metadata": {},
   "outputs": [
    {
     "name": "stdout",
     "output_type": "stream",
     "text": [
      "CPU times: user 211 ms, sys: 99 ms, total: 310 ms\n",
      "Wall time: 69.9 ms\n"
     ]
    },
    {
     "name": "stderr",
     "output_type": "stream",
     "text": [
      "<timed exec>:1: UserWarning: Exited at iteration 20 with accuracies \n",
      "[0.66552245 0.94438162 1.23658475]\n",
      "not reaching the requested tolerance 0.00015811388300841897.\n"
     ]
    },
    {
     "data": {
      "text/plain": [
       "array([64.4363801 , 64.26032347, 62.92400588])"
      ]
     },
     "execution_count": 25,
     "metadata": {},
     "output_type": "execute_result"
    }
   ],
   "source": [
    "%time ev, X1 = lobpcg(A, X0, M=M, largest=True)\n",
    "ev"
   ]
  },
  {
   "cell_type": "code",
   "execution_count": 26,
   "id": "e91264b9",
   "metadata": {},
   "outputs": [
    {
     "name": "stdout",
     "output_type": "stream",
     "text": [
      "CPU times: user 230 ms, sys: 108 ms, total: 338 ms\n",
      "Wall time: 58.8 ms\n",
      "CPU times: user 234 ms, sys: 107 ms, total: 341 ms\n",
      "Wall time: 56.5 ms\n",
      "CPU times: user 163 ms, sys: 82 ms, total: 245 ms\n",
      "Wall time: 52.9 ms\n",
      "CPU times: user 70.3 ms, sys: 40.2 ms, total: 110 ms\n",
      "Wall time: 20.7 ms\n",
      "CPU times: user 7.39 ms, sys: 3.8 ms, total: 11.2 ms\n",
      "Wall time: 2.19 ms\n",
      "CPU times: user 13.5 ms, sys: 4.44 ms, total: 17.9 ms\n",
      "Wall time: 6.25 ms\n"
     ]
    },
    {
     "name": "stderr",
     "output_type": "stream",
     "text": [
      "<timed exec>:1: UserWarning: Exited at iteration 20 with accuracies \n",
      "[0.66552245 0.94438162 1.23658475]\n",
      "not reaching the requested tolerance 0.00015811388300841897.\n",
      "<timed exec>:1: UserWarning: Exited at iteration 20 with accuracies \n",
      "[0.00210415 0.00163139 0.02752275]\n",
      "not reaching the requested tolerance 0.00015811388300841897.\n",
      "<timed exec>:1: UserWarning: Exited at iteration 20 with accuracies \n",
      "[0.00012043 0.00010094 0.00136726]\n",
      "not reaching the requested tolerance 0.00015811388300841897.\n"
     ]
    },
    {
     "data": {
      "text/plain": [
       "array([[ 0.01779802, -0.01164631, -0.00203599],\n",
       "       [ 0.03196724,  0.01505311, -0.00678067],\n",
       "       [-0.01258953, -0.00896628, -0.01156641],\n",
       "       ...,\n",
       "       [ 0.00345719,  0.03078773,  0.01879537],\n",
       "       [ 0.00399709, -0.01288702,  0.00355878],\n",
       "       [-0.00343277,  0.00610764, -0.01910672]])"
      ]
     },
     "execution_count": 26,
     "metadata": {},
     "output_type": "execute_result"
    }
   ],
   "source": [
    "for i in range(6):\n",
    "    %time ev, X0 = lobpcg(A, X0, M=M, largest=True)\n",
    "X0"
   ]
  },
  {
   "cell_type": "markdown",
   "id": "52bb28cb",
   "metadata": {},
   "source": [
    "Constraints:"
   ]
  },
  {
   "cell_type": "markdown",
   "id": "4e34ec85",
   "metadata": {},
   "source": [
    "Note that the vectors passed in Y are the eigenvectors of the 3 smallest\n",
    "    eigenvalues. The results returned are orthogonal to those."
   ]
  },
  {
   "cell_type": "markdown",
   "id": "adda8541",
   "metadata": {},
   "source": [
    "The matrix constraint should be used when solving the eigen problem while embending the problem in a larger dimensional space."
   ]
  },
  {
   "cell_type": "code",
   "execution_count": 10,
   "id": "4fd60b56",
   "metadata": {},
   "outputs": [],
   "source": [
    "Y = np.eye(N, 5)"
   ]
  },
  {
   "cell_type": "code",
   "execution_count": 28,
   "id": "4e493d01",
   "metadata": {},
   "outputs": [],
   "source": [
    "rng = np.random.default_rng()\n",
    "X0 = rng.random((N, 3))"
   ]
  },
  {
   "cell_type": "code",
   "execution_count": 29,
   "id": "60373a5d",
   "metadata": {},
   "outputs": [
    {
     "name": "stdout",
     "output_type": "stream",
     "text": [
      "CPU times: user 201 ms, sys: 84.3 ms, total: 285 ms\n",
      "Wall time: 72.9 ms\n"
     ]
    },
    {
     "name": "stderr",
     "output_type": "stream",
     "text": [
      "<timed exec>:1: UserWarning: Exited at iteration 20 with accuracies \n",
      "[2.28404938 1.83044535 1.79433101]\n",
      "not reaching the requested tolerance 0.00015811388300841897.\n"
     ]
    },
    {
     "data": {
      "text/plain": [
       "array([64.41076404, 64.28373849, 62.89652485])"
      ]
     },
     "execution_count": 29,
     "metadata": {},
     "output_type": "execute_result"
    }
   ],
   "source": [
    "%time ev, X1 = lobpcg(A, X0, Y=Y, M=M, largest=True)\n",
    "ev"
   ]
  },
  {
   "cell_type": "code",
   "execution_count": 12,
   "id": "2741fd02",
   "metadata": {},
   "outputs": [
    {
     "name": "stderr",
     "output_type": "stream",
     "text": [
      "<timed exec>:1: UserWarning: Exited at iteration 20 with accuracies \n",
      "[1.38228946 2.33042469 0.62485752]\n",
      "not reaching the requested tolerance 0.00015811388300841897.\n"
     ]
    },
    {
     "name": "stdout",
     "output_type": "stream",
     "text": [
      "CPU times: user 1.41 s, sys: 224 ms, total: 1.63 s\n",
      "Wall time: 317 ms\n"
     ]
    },
    {
     "name": "stderr",
     "output_type": "stream",
     "text": [
      "<timed exec>:1: UserWarning: Exited at iteration 20 with accuracies \n",
      "[1.38287338 2.33878094 0.62359243]\n",
      "not reaching the requested tolerance 0.00015811388300841897.\n"
     ]
    },
    {
     "name": "stdout",
     "output_type": "stream",
     "text": [
      "CPU times: user 1.39 s, sys: 197 ms, total: 1.59 s\n",
      "Wall time: 312 ms\n"
     ]
    },
    {
     "name": "stderr",
     "output_type": "stream",
     "text": [
      "<timed exec>:1: UserWarning: Exited at iteration 20 with accuracies \n",
      "[1.38287266 2.33877924 0.62359243]\n",
      "not reaching the requested tolerance 0.00015811388300841897.\n"
     ]
    },
    {
     "name": "stdout",
     "output_type": "stream",
     "text": [
      "CPU times: user 1.5 s, sys: 207 ms, total: 1.71 s\n",
      "Wall time: 291 ms\n",
      "CPU times: user 1.55 s, sys: 166 ms, total: 1.71 s\n",
      "Wall time: 283 ms\n",
      "CPU times: user 1.58 s, sys: 188 ms, total: 1.77 s\n",
      "Wall time: 280 ms\n",
      "CPU times: user 1.62 s, sys: 174 ms, total: 1.8 s\n",
      "Wall time: 266 ms\n"
     ]
    },
    {
     "data": {
      "text/plain": [
       "array([[ 0.        ,  0.        ,  0.        ],\n",
       "       [ 0.        ,  0.        ,  0.        ],\n",
       "       [ 0.        ,  0.        ,  0.        ],\n",
       "       ...,\n",
       "       [-0.00743823, -0.00704139,  0.01313926],\n",
       "       [ 0.00525484, -0.01749841, -0.0073815 ],\n",
       "       [ 0.00071932,  0.01216465,  0.00130925]])"
      ]
     },
     "execution_count": 12,
     "metadata": {},
     "output_type": "execute_result"
    }
   ],
   "source": [
    "for i in range(6):\n",
    "    %time ev, X0 = lobpcg(A, X0, Y=Y, M=M, largest=True)\n",
    "X0"
   ]
  },
  {
   "cell_type": "code",
   "execution_count": 13,
   "id": "2394447a",
   "metadata": {},
   "outputs": [
    {
     "name": "stderr",
     "output_type": "stream",
     "text": [
      "<timed exec>:1: UserWarning: Exited at iteration 20 with accuracies \n",
      "[1.38287266 2.33877924 0.62359243]\n",
      "not reaching the requested tolerance 0.00015811388300841897.\n"
     ]
    },
    {
     "name": "stdout",
     "output_type": "stream",
     "text": [
      "CPU times: user 1.54 s, sys: 165 ms, total: 1.7 s\n",
      "Wall time: 282 ms\n",
      "CPU times: user 1.6 s, sys: 190 ms, total: 1.79 s\n",
      "Wall time: 279 ms\n",
      "CPU times: user 1.64 s, sys: 184 ms, total: 1.83 s\n",
      "Wall time: 266 ms\n",
      "CPU times: user 1.58 s, sys: 178 ms, total: 1.76 s\n",
      "Wall time: 280 ms\n",
      "CPU times: user 1.59 s, sys: 203 ms, total: 1.79 s\n",
      "Wall time: 276 ms\n",
      "CPU times: user 1.6 s, sys: 197 ms, total: 1.8 s\n",
      "Wall time: 277 ms\n"
     ]
    },
    {
     "data": {
      "text/plain": [
       "array([[ 0.        ,  0.        ,  0.        ],\n",
       "       [ 0.        ,  0.        ,  0.        ],\n",
       "       [ 0.        ,  0.        ,  0.        ],\n",
       "       ...,\n",
       "       [ 0.00743823, -0.00704139, -0.01313926],\n",
       "       [-0.00525484, -0.01749841,  0.0073815 ],\n",
       "       [-0.00071932,  0.01216465, -0.00130925]])"
      ]
     },
     "execution_count": 13,
     "metadata": {},
     "output_type": "execute_result"
    }
   ],
   "source": [
    "for i in range(6):\n",
    "    %time ev, X0 = lobpcg(W, X0, Y=Y, largest=True)\n",
    "X0"
   ]
  },
  {
   "cell_type": "markdown",
   "id": "67e819ff",
   "metadata": {},
   "source": [
    "When constraints are specified, then warm start does not matter anymore."
   ]
  }
 ],
 "metadata": {
  "jupytext": {
   "encoding": "# -*- coding: utf-8 -*-",
   "formats": "ipynb,py,md"
  },
  "kernelspec": {
   "display_name": "Python 3 (ipykernel)",
   "language": "python",
   "name": "python3"
  },
  "language_info": {
   "codemirror_mode": {
    "name": "ipython",
    "version": 3
   },
   "file_extension": ".py",
   "mimetype": "text/x-python",
   "name": "python",
   "nbconvert_exporter": "python",
   "pygments_lexer": "ipython3",
   "version": "3.9.9"
  }
 },
 "nbformat": 4,
 "nbformat_minor": 5
}
