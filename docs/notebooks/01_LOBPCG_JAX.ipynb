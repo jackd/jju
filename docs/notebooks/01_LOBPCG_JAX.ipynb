{
 "cells": [
  {
   "cell_type": "markdown",
   "id": "dc7e831c",
   "metadata": {},
   "source": [
    "\n",
    "# JAX implementations\n",
    "\n",
    "JAX expose numpy and scipy implementations of `eigh` function but at the moment, advanced options such as `eigvals` are not available.\n",
    "\n",
    "Here are some interesting links:\n",
    "- [jackd/jju: Jack's Jax Utilities](https://github.com/jackd/jju)\n",
    "\n",
    "In particular, it contains a JAX implementation of LOBPCG discussed above:\n",
    "- https://github.com/jackd/jju/blob/master/jju/linalg/lobpcg/basic.py#L11\n",
    "\n",
    "The issue https://github.com/google/jax/issues/3112 from JAX's Github is also discussing an implementation.\n",
    "\n",
    "### Benchmarking with numpy\n",
    "\n",
    "I found this study:\n",
    "https://towardsdatascience.com/turbocharging-svd-with-jax-749ae12f93af?gi=398628dbfc88\n",
    "which compare jax and numy algorithms.\n",
    "\n",
    "There is in the end no big difference between jax and numpy from the speed perspective.\n",
    "\n",
    "\n",
    "Other benchmarking results can be found in this study:\n",
    "- [Separate your filters! Separability, SVD and low-rank approximation of 2D image processing filters | Bart Wronski](https://arxiv.org/pdf/2009.07542.pdf)\n",
    "\n",
    "This recent paper (2019):\n",
    "- [Differentiable Programming Tensor Networks\n",
    "Hai-Jun Liao, Jin-Guo Liu, Lei Wang, Tao Xiang](https://arxiv.org/abs/1903.09650).\n",
    "discuss which implementations of eigh may be recommended when used in differentiable pipelines.\n",
    "They have an implementation of differentiable SVD in Pytorch."
   ]
  },
  {
   "cell_type": "code",
   "execution_count": 2,
   "id": "dd128e30",
   "metadata": {},
   "outputs": [],
   "source": [
    "%load_ext autoreload\n",
    "%autoreload 2"
   ]
  },
  {
   "cell_type": "code",
   "execution_count": 3,
   "id": "be4d89f3",
   "metadata": {},
   "outputs": [
    {
     "name": "stderr",
     "output_type": "stream",
     "text": [
      "/Users/emmanuelserie/mambaforge/envs/waxml39/lib/python3.9/site-packages/jax/_src/lib/__init__.py:31: UserWarning: JAX on Mac ARM machines is experimental and minimally tested. Please see https://github.com/google/jax/issues/5501 in the event of problems.\n",
      "  warnings.warn(\"JAX on Mac ARM machines is experimental and minimally tested. \"\n"
     ]
    }
   ],
   "source": [
    "import jax\n",
    "import jax.numpy as jnp\n",
    "import scipy.sparse\n",
    "import numpy as onp\n",
    "\n",
    "from jju.linalg.lobpcg.basic import lobpcg\n",
    "from jju.linalg.lobpcg.utils import identity, rayleigh_ritz\n",
    "from jju.types import as_array_fun"
   ]
  },
  {
   "cell_type": "code",
   "execution_count": 4,
   "id": "44280cda",
   "metadata": {},
   "outputs": [],
   "source": [
    "T = 100\n",
    "N = 5000"
   ]
  },
  {
   "cell_type": "code",
   "execution_count": 5,
   "id": "929d5f49",
   "metadata": {
    "lines_to_next_cell": 2
   },
   "outputs": [
    {
     "name": "stderr",
     "output_type": "stream",
     "text": [
      "WARNING:absl:No GPU/TPU found, falling back to CPU. (Set TF_CPP_MIN_LOG_LEVEL=0 and rerun for more info.)\n"
     ]
    }
   ],
   "source": [
    "rng = jax.random.PRNGKey(42)\n",
    "X = jax.random.uniform(rng, (T, N))\n",
    "W = X.T @ X / T\n",
    "X0 = jax.random.uniform(rng, (N, 3))"
   ]
  },
  {
   "cell_type": "markdown",
   "id": "35f2ba3f",
   "metadata": {},
   "source": [
    "## test LOBPCG"
   ]
  },
  {
   "cell_type": "code",
   "execution_count": 6,
   "id": "fef6e6ee",
   "metadata": {
    "lines_to_next_cell": 2
   },
   "outputs": [],
   "source": [
    "X0 = jax.random.uniform(rng, (N, 3))"
   ]
  },
  {
   "cell_type": "code",
   "execution_count": 7,
   "id": "030965e1",
   "metadata": {},
   "outputs": [
    {
     "name": "stdout",
     "output_type": "stream",
     "text": [
      "CPU times: user 1.25 s, sys: 312 ms, total: 1.56 s\n",
      "Wall time: 443 ms\n"
     ]
    },
    {
     "name": "stderr",
     "output_type": "stream",
     "text": [
      "<timed exec>:1: UserWarning: Exited at iteration 20 with accuracies \n",
      "[6.63793672e-05 2.44824104e-03 9.55060172e-03]\n",
      "not reaching the requested tolerance 0.00015811388300841897.\n"
     ]
    },
    {
     "data": {
      "text/plain": [
       "array([1254.49699212,    5.38454768,    5.27474219])"
      ]
     },
     "execution_count": 7,
     "metadata": {},
     "output_type": "execute_result"
    }
   ],
   "source": [
    "%time ev, _ = scipy.sparse.linalg.lobpcg(onp.array(W).astype(onp.float64), onp.array(X0).astype(onp.float64))\n",
    "ev"
   ]
  },
  {
   "cell_type": "code",
   "execution_count": 8,
   "id": "d6c05d07",
   "metadata": {
    "lines_to_next_cell": 2
   },
   "outputs": [],
   "source": [
    "Y = None"
   ]
  },
  {
   "cell_type": "code",
   "execution_count": 9,
   "id": "4d3764f4",
   "metadata": {},
   "outputs": [],
   "source": [
    "# ??lobpcg"
   ]
  },
  {
   "cell_type": "code",
   "execution_count": 10,
   "id": "b364cea9",
   "metadata": {},
   "outputs": [
    {
     "name": "stdout",
     "output_type": "stream",
     "text": [
      "CPU times: user 2.29 s, sys: 214 ms, total: 2.5 s\n",
      "Wall time: 787 ms\n"
     ]
    },
    {
     "data": {
      "text/plain": [
       "DeviceArray([1254.4971   ,    5.38453  ,    5.2748566], dtype=float32)"
      ]
     },
     "execution_count": 10,
     "metadata": {},
     "output_type": "execute_result"
    }
   ],
   "source": [
    "rng = jax.random.PRNGKey(42)\n",
    "X = jax.random.uniform(rng, (T, N))\n",
    "W = X.T @ X / T\n",
    "X0 = jax.random.uniform(rng, (N, 3))\n",
    "\n",
    "%time ev, X1 = lobpcg(W, X0, None, None, None, True, None, None, 1000); ev.block_until_ready(); ev.block_until_ready()\n",
    "ev"
   ]
  },
  {
   "cell_type": "markdown",
   "id": "c0134c2b",
   "metadata": {},
   "source": [
    "Second run is faster:"
   ]
  },
  {
   "cell_type": "code",
   "execution_count": 11,
   "id": "f939abd0",
   "metadata": {},
   "outputs": [
    {
     "name": "stdout",
     "output_type": "stream",
     "text": [
      "CPU times: user 1.87 s, sys: 204 ms, total: 2.07 s\n",
      "Wall time: 304 ms\n"
     ]
    },
    {
     "data": {
      "text/plain": [
       "DeviceArray([1254.4971   ,    5.38453  ,    5.2748566], dtype=float32)"
      ]
     },
     "execution_count": 11,
     "metadata": {},
     "output_type": "execute_result"
    }
   ],
   "source": [
    "%time ev, X1 = lobpcg(W, X0, None, None, None, True, None, None, 1000); ev.block_until_ready(); ev.block_until_ready()\n",
    "ev"
   ]
  },
  {
   "cell_type": "markdown",
   "id": "29f58b66",
   "metadata": {},
   "source": [
    "### Warm-start"
   ]
  },
  {
   "cell_type": "code",
   "execution_count": 12,
   "id": "ec09ce3b",
   "metadata": {},
   "outputs": [
    {
     "name": "stdout",
     "output_type": "stream",
     "text": [
      "CPU times: user 145 ms, sys: 10.7 ms, total: 156 ms\n",
      "Wall time: 27.6 ms\n"
     ]
    },
    {
     "data": {
      "text/plain": [
       "DeviceArray([1254.4971   ,    5.3845315,    5.2748566], dtype=float32)"
      ]
     },
     "execution_count": 12,
     "metadata": {},
     "output_type": "execute_result"
    }
   ],
   "source": [
    "%time ev, X1 = lobpcg(W, X1, None, None, None, True, None, None, 1000); ev.block_until_ready(); ev.block_until_ready()"
   ]
  },
  {
   "cell_type": "markdown",
   "id": "1685cfb9",
   "metadata": {},
   "source": [
    "## Transpose approach"
   ]
  },
  {
   "cell_type": "code",
   "execution_count": 13,
   "id": "1c61029a",
   "metadata": {},
   "outputs": [
    {
     "name": "stdout",
     "output_type": "stream",
     "text": [
      "CPU times: user 378 ms, sys: 3.71 ms, total: 381 ms\n",
      "Wall time: 380 ms\n"
     ]
    },
    {
     "data": {
      "text/plain": [
       "DeviceArray([1254.4971   ,    5.3842063,    5.2675486], dtype=float32)"
      ]
     },
     "execution_count": 13,
     "metadata": {},
     "output_type": "execute_result"
    }
   ],
   "source": [
    "rng = jax.random.PRNGKey(42)\n",
    "X = jax.random.uniform(rng, (T, N))\n",
    "Wsmall = X @ X.T / T\n",
    "X0 = jax.random.normal(rng, (T, 3))\n",
    "\n",
    "%time ev, X1 = lobpcg(Wsmall, X0, None, None, None, True, None, None, 1000); ev.block_until_ready(); ev.block_until_ready()\n",
    "ev"
   ]
  },
  {
   "cell_type": "code",
   "execution_count": 14,
   "id": "4f187553",
   "metadata": {},
   "outputs": [
    {
     "name": "stdout",
     "output_type": "stream",
     "text": [
      "CPU times: user 2.5 ms, sys: 1.08 ms, total: 3.57 ms\n",
      "Wall time: 2.03 ms\n"
     ]
    },
    {
     "data": {
      "text/plain": [
       "DeviceArray([1254.4971   ,    5.3842063,    5.2675486], dtype=float32)"
      ]
     },
     "execution_count": 14,
     "metadata": {},
     "output_type": "execute_result"
    }
   ],
   "source": [
    "%time ev, X1 =  lobpcg(Wsmall, X0, None, None, None, True, None, None, 1000); ev.block_until_ready()"
   ]
  },
  {
   "cell_type": "code",
   "execution_count": 15,
   "id": "37ca6158",
   "metadata": {},
   "outputs": [],
   "source": [
    "nx = len(ev)"
   ]
  },
  {
   "cell_type": "code",
   "execution_count": 17,
   "id": "663dd795",
   "metadata": {},
   "outputs": [
    {
     "name": "stdout",
     "output_type": "stream",
     "text": [
      "CPU times: user 4.68 s, sys: 736 ms, total: 5.42 s\n",
      "Wall time: 993 ms\n"
     ]
    },
    {
     "data": {
      "text/plain": [
       "DeviceArray([[-0.10014337, -0.08351295,  0.1439427 , ..., -0.05296591,\n",
       "               0.05243376, -0.14207326],\n",
       "             [-0.10096472, -0.04740001, -0.16419022, ...,  0.20665328,\n",
       "               0.04076387,  0.20304883],\n",
       "             [-0.09967631, -0.17876193, -0.10932072, ...,  0.04042136,\n",
       "               0.13983932, -0.13899142],\n",
       "             ...,\n",
       "             [-0.09967086,  0.12509172, -0.00724508, ...,  0.02378564,\n",
       "              -0.04695617, -0.18081056],\n",
       "             [-0.09961274,  0.01550005,  0.12577657, ...,  0.02889361,\n",
       "               0.1688753 ,  0.0448981 ],\n",
       "             [-0.09964427, -0.04367123, -0.07992887, ..., -0.08170576,\n",
       "              -0.0716786 ,  0.11668825]], dtype=float32)"
      ]
     },
     "execution_count": 17,
     "metadata": {},
     "output_type": "execute_result"
    }
   ],
   "source": [
    "%time Uhat, s, V = jax.scipy.linalg.svd(X); Uhat.block_until_ready();"
   ]
  },
  {
   "cell_type": "code",
   "execution_count": 18,
   "id": "4b2ecaeb",
   "metadata": {},
   "outputs": [
    {
     "name": "stdout",
     "output_type": "stream",
     "text": [
      "CPU times: user 339 ms, sys: 115 ms, total: 454 ms\n",
      "Wall time: 90.2 ms\n"
     ]
    },
    {
     "data": {
      "text/plain": [
       "DeviceArray([[ 1.0000007e+00, -5.4685456e-09,  3.6529713e-09],\n",
       "             [-5.4685456e-09,  1.0000014e+00,  4.6366072e-08],\n",
       "             [ 3.6529713e-09,  4.6366072e-08,  1.0000000e+00]],            dtype=float32)"
      ]
     },
     "execution_count": 18,
     "metadata": {},
     "output_type": "execute_result"
    }
   ],
   "source": [
    "Q = X1\n",
    "B = Q.T @ X\n",
    "%time Uhat, s, V = jax.scipy.linalg.svd(B); Uhat.block_until_ready()\n",
    "U = Q @ Uhat\n",
    "U.shape\n",
    "U = V[:nx].T\n",
    "U.T @ U"
   ]
  },
  {
   "cell_type": "code",
   "execution_count": 19,
   "id": "dd910e38",
   "metadata": {},
   "outputs": [
    {
     "data": {
      "text/plain": [
       "DeviceArray([1254.4977  ,    5.384249,    5.267863], dtype=float32)"
      ]
     },
     "execution_count": 19,
     "metadata": {},
     "output_type": "execute_result"
    }
   ],
   "source": [
    "Cov = X.T @ X / T\n",
    "jnp.diag(U.T @ Cov @ U)"
   ]
  },
  {
   "cell_type": "code",
   "execution_count": 20,
   "id": "fbea040a",
   "metadata": {},
   "outputs": [
    {
     "data": {
      "text/plain": [
       "DeviceArray([1254.4971   ,    5.3842063,    5.2675486], dtype=float32)"
      ]
     },
     "execution_count": 20,
     "metadata": {},
     "output_type": "execute_result"
    }
   ],
   "source": [
    "ev"
   ]
  },
  {
   "cell_type": "markdown",
   "id": "548dccbf",
   "metadata": {},
   "source": [
    "### test with constraints"
   ]
  },
  {
   "cell_type": "code",
   "execution_count": 222,
   "id": "f27ccba5",
   "metadata": {},
   "outputs": [],
   "source": [
    "N, T = 5000, 100\n",
    "rng = jax.random.PRNGKey(42)\n",
    "def generate_wishart(N=1000, T=1100):\n",
    "    X = jax.random.normal(rng, (T, N))\n",
    "    W = X.T @ X / T\n",
    "    return W, X\n",
    "W, X = generate_wishart(N, T)\n",
    "X0 = jax.random.normal(rng, (N, 3))\n",
    "Y = jnp.eye(N, 5)"
   ]
  },
  {
   "cell_type": "code",
   "execution_count": 223,
   "id": "1c4ef811",
   "metadata": {},
   "outputs": [
    {
     "data": {
      "text/plain": [
       "DeviceArray([[1., 0., 0., 0., 0.],\n",
       "             [0., 1., 0., 0., 0.],\n",
       "             [0., 0., 1., 0., 0.],\n",
       "             ...,\n",
       "             [0., 0., 0., 0., 0.],\n",
       "             [0., 0., 0., 0., 0.],\n",
       "             [0., 0., 0., 0., 0.]], dtype=float32)"
      ]
     },
     "execution_count": 223,
     "metadata": {},
     "output_type": "execute_result"
    }
   ],
   "source": [
    "Y"
   ]
  },
  {
   "cell_type": "code",
   "execution_count": 224,
   "id": "f3be0f85",
   "metadata": {},
   "outputs": [],
   "source": [
    "invA = jnp.diag(1.0 / (X**2).mean(0))"
   ]
  },
  {
   "cell_type": "code",
   "execution_count": 249,
   "id": "ad6b9884",
   "metadata": {},
   "outputs": [
    {
     "name": "stdout",
     "output_type": "stream",
     "text": [
      "CPU times: user 2.7 s, sys: 265 ms, total: 2.96 s\n",
      "Wall time: 534 ms\n"
     ]
    },
    {
     "data": {
      "text/plain": [
       "DeviceArray([[-3.6445203e-05, -4.7590547e-05,  7.0459268e-05],\n",
       "             [ 7.1704976e-06,  5.9620838e-04, -6.5635063e-04],\n",
       "             [-7.7927485e-05, -7.5356552e-04,  8.6425769e-04],\n",
       "             ...,\n",
       "             [ 1.4446663e-02,  3.2763463e-03,  1.8101221e-02],\n",
       "             [ 3.2827254e-02, -6.8336604e-03, -9.4931778e-03],\n",
       "             [ 1.6918244e-02,  8.6720763e-03, -8.5902298e-03]],            dtype=float32)"
      ]
     },
     "execution_count": 249,
     "metadata": {},
     "output_type": "execute_result"
    }
   ],
   "source": [
    "%time ev, X1 =  lobpcg(jnp.array(W), jnp.array(X0), Y=jnp.array(Y),largest=True, max_iters=39); ev.block_until_ready();#iK=invA, \n",
    "X1"
   ]
  },
  {
   "cell_type": "code",
   "execution_count": 230,
   "id": "ad6ad91e",
   "metadata": {},
   "outputs": [
    {
     "data": {
      "text/plain": [
       "array([282.38647,  65.00391,  63.80316], dtype=float32)"
      ]
     },
     "execution_count": 230,
     "metadata": {},
     "output_type": "execute_result"
    }
   ],
   "source": [
    "ev"
   ]
  },
  {
   "cell_type": "markdown",
   "id": "2540622e",
   "metadata": {},
   "source": [
    "Starting with max_iters=40 the algorithm give nans.\n",
    "We have to fix it."
   ]
  },
  {
   "cell_type": "code",
   "execution_count": 250,
   "id": "710d21dd",
   "metadata": {},
   "outputs": [
    {
     "name": "stdout",
     "output_type": "stream",
     "text": [
      "CPU times: user 2.92 s, sys: 302 ms, total: 3.22 s\n",
      "Wall time: 512 ms\n"
     ]
    },
    {
     "data": {
      "text/plain": [
       "DeviceArray([[nan, nan, nan],\n",
       "             [nan, nan, nan],\n",
       "             [nan, nan, nan],\n",
       "             ...,\n",
       "             [nan, nan, nan],\n",
       "             [nan, nan, nan],\n",
       "             [nan, nan, nan]], dtype=float32)"
      ]
     },
     "execution_count": 250,
     "metadata": {},
     "output_type": "execute_result"
    }
   ],
   "source": [
    "# from jax.config import config; config.update(\"jax_enable_x64\", False)\n",
    "%time ev, X1 =  lobpcg(jnp.array(W, \"float32\"), jnp.array(X0, \"float32\"), Y=jnp.array(Y, \"float32\"),largest=True, max_iters=40); ev.block_until_ready();#iK=invA, \n",
    "X1"
   ]
  },
  {
   "cell_type": "code",
   "execution_count": 268,
   "id": "107f7339",
   "metadata": {},
   "outputs": [],
   "source": [
    "from jax.config import config; config.update(\"jax_enable_x64\", True)"
   ]
  },
  {
   "cell_type": "code",
   "execution_count": 279,
   "id": "1a9a9f52",
   "metadata": {},
   "outputs": [
    {
     "name": "stdout",
     "output_type": "stream",
     "text": [
      "CPU times: user 5.59 s, sys: 664 ms, total: 6.25 s\n",
      "Wall time: 1.06 s\n"
     ]
    },
    {
     "data": {
      "text/plain": [
       "DeviceArray([[ 5.46214083e-05,  6.46505350e-05,  2.53362722e-05],\n",
       "             [ 2.68729187e-05,  1.74906617e-04, -1.66615759e-04],\n",
       "             [-1.01086227e-04, -5.71977816e-04,  4.82890250e-04],\n",
       "             ...,\n",
       "             [-1.44547315e-02,  3.21703661e-03,  1.80874004e-02],\n",
       "             [-3.28315158e-02, -6.82441543e-03, -9.45072788e-03],\n",
       "             [-1.69018512e-02,  8.80029127e-03, -8.50324976e-03]],            dtype=float64)"
      ]
     },
     "execution_count": 279,
     "metadata": {},
     "output_type": "execute_result"
    }
   ],
   "source": [
    "%%time \n",
    "ev, X1 =  lobpcg(jnp.array(W, \"float64\"), jnp.array(X0, \"float64\"), Y=jnp.array(Y, \"float64\"), largest=True, max_iters=40); ev.block_until_ready();\n",
    "#iK=invA, \n",
    "X1.block_until_ready()"
   ]
  },
  {
   "cell_type": "code",
   "execution_count": 280,
   "id": "03a47ac0",
   "metadata": {},
   "outputs": [
    {
     "data": {
      "text/plain": [
       "DeviceArray([65.00406729, 63.8051286 , 63.10346073], dtype=float64)"
      ]
     },
     "execution_count": 280,
     "metadata": {},
     "output_type": "execute_result"
    }
   ],
   "source": [
    "ev"
   ]
  },
  {
   "cell_type": "markdown",
   "id": "beb63584",
   "metadata": {},
   "source": [
    "## scipy run "
   ]
  },
  {
   "cell_type": "markdown",
   "id": "ff539844",
   "metadata": {},
   "source": [
    "Let's compare to what gives scipy."
   ]
  },
  {
   "cell_type": "code",
   "execution_count": 227,
   "id": "d78f7c35",
   "metadata": {},
   "outputs": [],
   "source": [
    "from scipy.sparse.linalg import LinearOperator\n",
    "from scipy.sparse import issparse, spdiags"
   ]
  },
  {
   "cell_type": "code",
   "execution_count": 231,
   "id": "2c85f789",
   "metadata": {},
   "outputs": [],
   "source": [
    "if False:\n",
    "    import numpy as np\n",
    "    print(N, T)\n",
    "    N, T = 5000, 100\n",
    "\n",
    "    def generate_wishart(N=1000, T=1100):\n",
    "        X = np.random.randn(T, N)\n",
    "        W = X.T @ X / T\n",
    "        return W, X\n",
    "    W, X = generate_wishart(N, T)\n",
    "    rng = np.random.default_rng()\n",
    "    X0 = rng.random((N, 3))\n",
    "    Y = np.eye(N, 5)"
   ]
  },
  {
   "cell_type": "code",
   "execution_count": 260,
   "id": "23f82be3",
   "metadata": {},
   "outputs": [
    {
     "name": "stdout",
     "output_type": "stream",
     "text": [
      "CPU times: user 2.19 s, sys: 486 ms, total: 2.68 s\n",
      "Wall time: 433 ms\n"
     ]
    },
    {
     "name": "stderr",
     "output_type": "stream",
     "text": [
      "<timed exec>:1: UserWarning: Exited at iteration 39 with accuracies \n",
      "[6.7431797e+03 1.4651953e+00 2.0974681e+00]\n",
      "not reaching the requested tolerance 0.00015811388300841897.\n"
     ]
    },
    {
     "data": {
      "text/plain": [
       "array([[ 4.4167793e-04,  9.9974408e-05, -3.4029788e-04],\n",
       "       [-2.5614346e-03, -6.0712595e-05,  3.0222326e-04],\n",
       "       [-1.5623022e-02,  8.7821954e-06, -1.2032720e-04],\n",
       "       ...,\n",
       "       [-8.3930582e-02, -1.4465491e-02,  3.2491998e-03],\n",
       "       [-4.1133054e-02, -3.2832053e-02, -6.8052039e-03],\n",
       "       [ 2.8422205e-02, -1.6905002e-02,  8.7821446e-03]], dtype=float32)"
      ]
     },
     "execution_count": 260,
     "metadata": {},
     "output_type": "execute_result"
    }
   ],
   "source": [
    "%time ev, X1 = scipy.sparse.linalg.lobpcg(onp.array(W), X0, Y=Y, largest=True, maxiter=39)\n",
    "X1"
   ]
  },
  {
   "cell_type": "code",
   "execution_count": 257,
   "id": "97553bb9",
   "metadata": {},
   "outputs": [
    {
     "data": {
      "text/plain": [
       "array([1451.7709  ,   65.003944,   63.80353 ], dtype=float32)"
      ]
     },
     "execution_count": 257,
     "metadata": {},
     "output_type": "execute_result"
    }
   ],
   "source": [
    "ev"
   ]
  },
  {
   "cell_type": "code",
   "execution_count": 266,
   "id": "1ecffbb1",
   "metadata": {},
   "outputs": [
    {
     "name": "stdout",
     "output_type": "stream",
     "text": [
      "CPU times: user 3.13 s, sys: 409 ms, total: 3.54 s\n",
      "Wall time: 559 ms\n"
     ]
    },
    {
     "name": "stderr",
     "output_type": "stream",
     "text": [
      "<timed exec>:1: UserWarning: Exited at iteration 39 with accuracies \n",
      "[1.46537022 2.10026986 1.47411062]\n",
      "not reaching the requested tolerance 0.00015811388300841897.\n"
     ]
    },
    {
     "data": {
      "text/plain": [
       "array([[ 0.        ,  0.        ,  0.        ],\n",
       "       [ 0.        ,  0.        ,  0.        ],\n",
       "       [ 0.        ,  0.        ,  0.        ],\n",
       "       ...,\n",
       "       [-0.01444526,  0.00331638,  0.01821111],\n",
       "       [-0.03282786, -0.00683802, -0.0093886 ],\n",
       "       [-0.01691743,  0.0087028 , -0.00847153]])"
      ]
     },
     "execution_count": 266,
     "metadata": {},
     "output_type": "execute_result"
    }
   ],
   "source": [
    "%time ev, X1 = scipy.sparse.linalg.lobpcg(onp.array(W, float), onp.array(X0, float), Y=onp.array(Y, float), largest=True, maxiter=39)\n",
    "X1"
   ]
  },
  {
   "cell_type": "code",
   "execution_count": 267,
   "id": "071f6f77",
   "metadata": {},
   "outputs": [
    {
     "data": {
      "text/plain": [
       "array([65.00404136, 63.80249923, 63.10427344])"
      ]
     },
     "execution_count": 267,
     "metadata": {},
     "output_type": "execute_result"
    }
   ],
   "source": [
    "ev"
   ]
  },
  {
   "cell_type": "markdown",
   "id": "aa10084f",
   "metadata": {},
   "source": [
    "It converges better with computations in float64."
   ]
  }
 ],
 "metadata": {
  "jupytext": {
   "encoding": "# -*- coding: utf-8 -*-",
   "formats": "ipynb,py:light,md"
  },
  "kernelspec": {
   "display_name": "Python 3 (ipykernel)",
   "language": "python",
   "name": "python3"
  },
  "language_info": {
   "codemirror_mode": {
    "name": "ipython",
    "version": 3
   },
   "file_extension": ".py",
   "mimetype": "text/x-python",
   "name": "python",
   "nbconvert_exporter": "python",
   "pygments_lexer": "ipython3",
   "version": "3.9.9"
  }
 },
 "nbformat": 4,
 "nbformat_minor": 5
}
